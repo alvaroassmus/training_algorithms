{
 "cells": [
  {
   "cell_type": "markdown",
   "id": "0b00a0af-35a3-4a6f-9b5a-bccd351f5093",
   "metadata": {},
   "source": [
    "- Write a program that prints to the console (using `print`) the numbers from 1 to 100 (inclusive, with a newline between each print), replacing the following:\n",
    "  - Multiples of 3 with the word \"fizz\".\n",
    "  - Multiples of 5 with the word \"buzz\".\n",
    "  - Multiples of both 3 and 5 with the word \"fizzbuzz\"."
   ]
  },
  {
   "cell_type": "code",
   "execution_count": null,
   "id": "14944dfc-6fb6-4dca-82e8-478e613ac8bf",
   "metadata": {
    "scrolled": true
   },
   "outputs": [],
   "source": [
    "for i in range(1,101):\n",
    "    if i%3 == 0 and i%5 == 0:\n",
    "        print(str(i) + \" = fizzfuzz\")\n",
    "    elif i%3 == 0:\n",
    "        print(str(i) + \" = fizz\")\n",
    "    elif i%5 == 0:\n",
    "        print(str(i) + \" = fuzz\")"
   ]
  }
 ],
 "metadata": {
  "kernelspec": {
   "display_name": "Python 3 (ipykernel)",
   "language": "python",
   "name": "python3"
  },
  "language_info": {
   "codemirror_mode": {
    "name": "ipython",
    "version": 3
   },
   "file_extension": ".py",
   "mimetype": "text/x-python",
   "name": "python",
   "nbconvert_exporter": "python",
   "pygments_lexer": "ipython3",
   "version": "3.11.2"
  }
 },
 "nbformat": 4,
 "nbformat_minor": 5
}
